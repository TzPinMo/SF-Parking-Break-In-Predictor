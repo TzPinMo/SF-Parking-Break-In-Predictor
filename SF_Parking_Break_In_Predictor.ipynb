{
  "nbformat": 4,
  "nbformat_minor": 0,
  "metadata": {
    "colab": {
      "name": "SF Parking Break-In Predictor",
      "provenance": [],
      "collapsed_sections": []
    },
    "kernelspec": {
      "name": "python3",
      "display_name": "Python 3"
    },
    "language_info": {
      "name": "python"
    }
  },
  "cells": [
    {
      "cell_type": "markdown",
      "source": [
        "#**Preparing Data with Pandas**#"
      ],
      "metadata": {
        "id": "lLxP0Qlx_4nH"
      }
    },
    {
      "cell_type": "code",
      "execution_count": null,
      "metadata": {
        "id": "7cbRi4NxBkES"
      },
      "outputs": [],
      "source": [
        "import pandas as pd\n",
        "import numpy as np\n",
        "import io\n",
        "import datetime\n",
        "from matplotlib import pyplot as plt"
      ]
    },
    {
      "cell_type": "code",
      "source": [
        "# from google.colab import files\n",
        "# from google.colab import drive\n",
        "# drive.mount('/content/drive')"
      ],
      "metadata": {
        "id": "ariLSgJdBlUG"
      },
      "execution_count": null,
      "outputs": []
    },
    {
      "cell_type": "code",
      "source": [
        "# read SFPD csv (pre-filtered by larceny/vehicle theft from SFPD)\n",
        "from google.colab import files\n",
        "uploaded = files.upload()"
      ],
      "metadata": {
        "colab": {
          "resources": {
            "http://localhost:8080/nbextensions/google.colab/files.js": {
              "data": "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",
              "ok": true,
              "headers": [
                [
                  "content-type",
                  "application/javascript"
                ]
              ],
              "status": 200,
              "status_text": ""
            }
          },
          "base_uri": "https://localhost:8080/",
          "height": 74
        },
        "id": "Ztulj_d9Fcyr",
        "outputId": "1478fe04-95c4-4747-e6a3-607832250688"
      },
      "execution_count": null,
      "outputs": [
        {
          "output_type": "display_data",
          "data": {
            "text/plain": [
              "<IPython.core.display.HTML object>"
            ],
            "text/html": [
              "\n",
              "     <input type=\"file\" id=\"files-fafe504b-a54b-43b7-a3c6-d4969d23be1c\" name=\"files[]\" multiple disabled\n",
              "        style=\"border:none\" />\n",
              "     <output id=\"result-fafe504b-a54b-43b7-a3c6-d4969d23be1c\">\n",
              "      Upload widget is only available when the cell has been executed in the\n",
              "      current browser session. Please rerun this cell to enable.\n",
              "      </output>\n",
              "      <script src=\"/nbextensions/google.colab/files.js\"></script> "
            ]
          },
          "metadata": {}
        },
        {
          "output_type": "stream",
          "name": "stdout",
          "text": [
            "Saving Police_Department_Incident_Reports__2018_to_Present.csv to Police_Department_Incident_Reports__2018_to_Present.csv\n"
          ]
        }
      ]
    },
    {
      "cell_type": "code",
      "source": [
        "rawData = pd.read_csv(io.BytesIO(uploaded['Police_Department_Incident_Reports__2018_to_Present.csv']))\n",
        "rawData.info()\n",
        "\n",
        "# We see that there are empty cells in \"Analysis Neighborhood\" column which is a key variable we will input to our model "
      ],
      "metadata": {
        "colab": {
          "base_uri": "https://localhost:8080/"
        },
        "id": "Xgotk7xDEtmL",
        "outputId": "afb3843f-ea4c-41ba-d98a-988b7ccaf8fe"
      },
      "execution_count": null,
      "outputs": [
        {
          "output_type": "stream",
          "name": "stdout",
          "text": [
            "<class 'pandas.core.frame.DataFrame'>\n",
            "RangeIndex: 133803 entries, 0 to 133802\n",
            "Data columns (total 26 columns):\n",
            " #   Column                   Non-Null Count   Dtype  \n",
            "---  ------                   --------------   -----  \n",
            " 0   Incident Datetime        133803 non-null  object \n",
            " 1   Incident Date            133803 non-null  object \n",
            " 2   Incident Time            133803 non-null  object \n",
            " 3   Incident Year            133803 non-null  int64  \n",
            " 4   Incident Day of Week     133803 non-null  object \n",
            " 5   Report Datetime          133803 non-null  object \n",
            " 6   Row ID                   133803 non-null  int64  \n",
            " 7   Incident ID              133803 non-null  int64  \n",
            " 8   Incident Number          133803 non-null  int64  \n",
            " 9   CAD Number               69707 non-null   float64\n",
            " 10  Report Type Code         133803 non-null  object \n",
            " 11  Report Type Description  133803 non-null  object \n",
            " 12  Filed Online             63458 non-null   object \n",
            " 13  Incident Code            133803 non-null  int64  \n",
            " 14  Incident Category        133803 non-null  object \n",
            " 15  Incident Subcategory     133803 non-null  object \n",
            " 16  Incident Description     133803 non-null  object \n",
            " 17  Resolution               133803 non-null  object \n",
            " 18  Intersection             122555 non-null  object \n",
            " 19  CNN                      122555 non-null  float64\n",
            " 20  Police District          133803 non-null  object \n",
            " 21  Analysis Neighborhood    122547 non-null  object \n",
            " 22  Supervisor District      122555 non-null  float64\n",
            " 23  Latitude                 122555 non-null  float64\n",
            " 24  Longitude                122555 non-null  float64\n",
            " 25  Point                    122555 non-null  object \n",
            "dtypes: float64(5), int64(5), object(16)\n",
            "memory usage: 26.5+ MB\n"
          ]
        }
      ]
    },
    {
      "cell_type": "code",
      "source": [
        "rawData['Analysis Neighborhood'].replace('', np.nan, inplace=True)"
      ],
      "metadata": {
        "id": "E3GdY7zou6lq"
      },
      "execution_count": null,
      "outputs": []
    },
    {
      "cell_type": "code",
      "source": [
        "rawData.dropna(subset=['Analysis Neighborhood'], inplace=True)\n",
        "rawData.info()"
      ],
      "metadata": {
        "colab": {
          "base_uri": "https://localhost:8080/"
        },
        "id": "xAROsuNP0Xju",
        "outputId": "7f6fa2d8-97c5-4203-c3dd-1bd6c7f42365"
      },
      "execution_count": null,
      "outputs": [
        {
          "output_type": "stream",
          "name": "stdout",
          "text": [
            "<class 'pandas.core.frame.DataFrame'>\n",
            "Int64Index: 122547 entries, 0 to 133802\n",
            "Data columns (total 26 columns):\n",
            " #   Column                   Non-Null Count   Dtype  \n",
            "---  ------                   --------------   -----  \n",
            " 0   Incident Datetime        122547 non-null  object \n",
            " 1   Incident Date            122547 non-null  object \n",
            " 2   Incident Time            122547 non-null  object \n",
            " 3   Incident Year            122547 non-null  int64  \n",
            " 4   Incident Day of Week     122547 non-null  object \n",
            " 5   Report Datetime          122547 non-null  object \n",
            " 6   Row ID                   122547 non-null  int64  \n",
            " 7   Incident ID              122547 non-null  int64  \n",
            " 8   Incident Number          122547 non-null  int64  \n",
            " 9   CAD Number               69329 non-null   float64\n",
            " 10  Report Type Code         122547 non-null  object \n",
            " 11  Report Type Description  122547 non-null  object \n",
            " 12  Filed Online             52634 non-null   object \n",
            " 13  Incident Code            122547 non-null  int64  \n",
            " 14  Incident Category        122547 non-null  object \n",
            " 15  Incident Subcategory     122547 non-null  object \n",
            " 16  Incident Description     122547 non-null  object \n",
            " 17  Resolution               122547 non-null  object \n",
            " 18  Intersection             122547 non-null  object \n",
            " 19  CNN                      122547 non-null  float64\n",
            " 20  Police District          122547 non-null  object \n",
            " 21  Analysis Neighborhood    122547 non-null  object \n",
            " 22  Supervisor District      122547 non-null  float64\n",
            " 23  Latitude                 122547 non-null  float64\n",
            " 24  Longitude                122547 non-null  float64\n",
            " 25  Point                    122547 non-null  object \n",
            "dtypes: float64(5), int64(5), object(16)\n",
            "memory usage: 25.2+ MB\n"
          ]
        }
      ]
    },
    {
      "cell_type": "code",
      "source": [
        "rawData.head()"
      ],
      "metadata": {
        "colab": {
          "base_uri": "https://localhost:8080/",
          "height": 543
        },
        "id": "HqCGVVcfvqDV",
        "outputId": "e2e00397-bb29-4ec7-d1ab-8c6099595a0d"
      },
      "execution_count": null,
      "outputs": [
        {
          "output_type": "execute_result",
          "data": {
            "text/plain": [
              "        Incident Datetime Incident Date Incident Time  Incident Year  \\\n",
              "0  2018/12/22 12:00:00 PM    2018/12/22         12:00           2018   \n",
              "1  2018/08/24 05:30:00 PM    2018/08/24         17:30           2018   \n",
              "2  2019/01/25 11:00:00 AM    2019/01/25         11:00           2019   \n",
              "3  2018/11/18 08:20:00 PM    2018/11/18         20:20           2018   \n",
              "4  2019/04/10 09:00:00 PM    2019/04/10         21:00           2019   \n",
              "\n",
              "  Incident Day of Week         Report Datetime       Row ID  Incident ID  \\\n",
              "0             Saturday  2018/12/26 02:29:00 PM  75246907023       752469   \n",
              "1               Friday  2018/08/24 07:35:00 PM  70675306243       706753   \n",
              "2               Friday  2019/01/25 11:00:00 AM  76297507055       762975   \n",
              "3               Sunday  2018/11/18 09:10:00 PM  73895706244       738957   \n",
              "4            Wednesday  2019/04/11 12:36:00 AM  78958506244       789585   \n",
              "\n",
              "   Incident Number   CAD Number  ...                   Incident Description  \\\n",
              "0        180971777  183601903.0  ...            Vehicle, Stolen, Motorcycle   \n",
              "1        180639339  182363732.0  ...  Theft, From Locked Vehicle, $200-$950   \n",
              "2        190061487  190251162.0  ...  Vehicle, Recovered, Stolen outside SF   \n",
              "3        180875862  183223149.0  ...      Theft, From Locked Vehicle, >$950   \n",
              "4        196072179          NaN  ...      Theft, From Locked Vehicle, >$950   \n",
              "\n",
              "       Resolution               Intersection         CNN Police District  \\\n",
              "0  Open or Active    LINDEN ST \\ BUCHANAN ST  25931000.0        Northern   \n",
              "1  Open or Active      PERU AVE \\ BURROWS ST  21610000.0       Ingleside   \n",
              "2  Open or Active     BRYANT ST \\ LANGTON ST  23876000.0       Ingleside   \n",
              "3  Open or Active  GEARY BLVD \\ PRESIDIO AVE  26834000.0        Richmond   \n",
              "4  Open or Active  VAN NESS AVE \\ HEMLOCK ST  30080000.0        Northern   \n",
              "\n",
              "  Analysis Neighborhood Supervisor District   Latitude   Longitude  \\\n",
              "0          Hayes Valley                 5.0  37.775787 -122.427819   \n",
              "1             Excelsior                 9.0  37.723944 -122.422830   \n",
              "2       South of Market                 6.0  37.773856 -122.405286   \n",
              "3     Lone Mountain/USF                 2.0  37.782488 -122.445821   \n",
              "4              Nob Hill                 3.0  37.787087 -122.421560   \n",
              "\n",
              "                                           Point  \n",
              "0  POINT (-122.42781910073226 37.77578657487239)  \n",
              "1  POINT (-122.42283006837721 37.72394419349765)  \n",
              "2  POINT (-122.40528580238285 37.77385630397913)  \n",
              "3  POINT (-122.4458205129012 37.782488031626265)  \n",
              "4   POINT (-122.42155971686209 37.7870872505264)  \n",
              "\n",
              "[5 rows x 26 columns]"
            ],
            "text/html": [
              "\n",
              "  <div id=\"df-65a50fdd-b340-45cf-b21a-6a61991a4d04\">\n",
              "    <div class=\"colab-df-container\">\n",
              "      <div>\n",
              "<style scoped>\n",
              "    .dataframe tbody tr th:only-of-type {\n",
              "        vertical-align: middle;\n",
              "    }\n",
              "\n",
              "    .dataframe tbody tr th {\n",
              "        vertical-align: top;\n",
              "    }\n",
              "\n",
              "    .dataframe thead th {\n",
              "        text-align: right;\n",
              "    }\n",
              "</style>\n",
              "<table border=\"1\" class=\"dataframe\">\n",
              "  <thead>\n",
              "    <tr style=\"text-align: right;\">\n",
              "      <th></th>\n",
              "      <th>Incident Datetime</th>\n",
              "      <th>Incident Date</th>\n",
              "      <th>Incident Time</th>\n",
              "      <th>Incident Year</th>\n",
              "      <th>Incident Day of Week</th>\n",
              "      <th>Report Datetime</th>\n",
              "      <th>Row ID</th>\n",
              "      <th>Incident ID</th>\n",
              "      <th>Incident Number</th>\n",
              "      <th>CAD Number</th>\n",
              "      <th>...</th>\n",
              "      <th>Incident Description</th>\n",
              "      <th>Resolution</th>\n",
              "      <th>Intersection</th>\n",
              "      <th>CNN</th>\n",
              "      <th>Police District</th>\n",
              "      <th>Analysis Neighborhood</th>\n",
              "      <th>Supervisor District</th>\n",
              "      <th>Latitude</th>\n",
              "      <th>Longitude</th>\n",
              "      <th>Point</th>\n",
              "    </tr>\n",
              "  </thead>\n",
              "  <tbody>\n",
              "    <tr>\n",
              "      <th>0</th>\n",
              "      <td>2018/12/22 12:00:00 PM</td>\n",
              "      <td>2018/12/22</td>\n",
              "      <td>12:00</td>\n",
              "      <td>2018</td>\n",
              "      <td>Saturday</td>\n",
              "      <td>2018/12/26 02:29:00 PM</td>\n",
              "      <td>75246907023</td>\n",
              "      <td>752469</td>\n",
              "      <td>180971777</td>\n",
              "      <td>183601903.0</td>\n",
              "      <td>...</td>\n",
              "      <td>Vehicle, Stolen, Motorcycle</td>\n",
              "      <td>Open or Active</td>\n",
              "      <td>LINDEN ST \\ BUCHANAN ST</td>\n",
              "      <td>25931000.0</td>\n",
              "      <td>Northern</td>\n",
              "      <td>Hayes Valley</td>\n",
              "      <td>5.0</td>\n",
              "      <td>37.775787</td>\n",
              "      <td>-122.427819</td>\n",
              "      <td>POINT (-122.42781910073226 37.77578657487239)</td>\n",
              "    </tr>\n",
              "    <tr>\n",
              "      <th>1</th>\n",
              "      <td>2018/08/24 05:30:00 PM</td>\n",
              "      <td>2018/08/24</td>\n",
              "      <td>17:30</td>\n",
              "      <td>2018</td>\n",
              "      <td>Friday</td>\n",
              "      <td>2018/08/24 07:35:00 PM</td>\n",
              "      <td>70675306243</td>\n",
              "      <td>706753</td>\n",
              "      <td>180639339</td>\n",
              "      <td>182363732.0</td>\n",
              "      <td>...</td>\n",
              "      <td>Theft, From Locked Vehicle, $200-$950</td>\n",
              "      <td>Open or Active</td>\n",
              "      <td>PERU AVE \\ BURROWS ST</td>\n",
              "      <td>21610000.0</td>\n",
              "      <td>Ingleside</td>\n",
              "      <td>Excelsior</td>\n",
              "      <td>9.0</td>\n",
              "      <td>37.723944</td>\n",
              "      <td>-122.422830</td>\n",
              "      <td>POINT (-122.42283006837721 37.72394419349765)</td>\n",
              "    </tr>\n",
              "    <tr>\n",
              "      <th>2</th>\n",
              "      <td>2019/01/25 11:00:00 AM</td>\n",
              "      <td>2019/01/25</td>\n",
              "      <td>11:00</td>\n",
              "      <td>2019</td>\n",
              "      <td>Friday</td>\n",
              "      <td>2019/01/25 11:00:00 AM</td>\n",
              "      <td>76297507055</td>\n",
              "      <td>762975</td>\n",
              "      <td>190061487</td>\n",
              "      <td>190251162.0</td>\n",
              "      <td>...</td>\n",
              "      <td>Vehicle, Recovered, Stolen outside SF</td>\n",
              "      <td>Open or Active</td>\n",
              "      <td>BRYANT ST \\ LANGTON ST</td>\n",
              "      <td>23876000.0</td>\n",
              "      <td>Ingleside</td>\n",
              "      <td>South of Market</td>\n",
              "      <td>6.0</td>\n",
              "      <td>37.773856</td>\n",
              "      <td>-122.405286</td>\n",
              "      <td>POINT (-122.40528580238285 37.77385630397913)</td>\n",
              "    </tr>\n",
              "    <tr>\n",
              "      <th>3</th>\n",
              "      <td>2018/11/18 08:20:00 PM</td>\n",
              "      <td>2018/11/18</td>\n",
              "      <td>20:20</td>\n",
              "      <td>2018</td>\n",
              "      <td>Sunday</td>\n",
              "      <td>2018/11/18 09:10:00 PM</td>\n",
              "      <td>73895706244</td>\n",
              "      <td>738957</td>\n",
              "      <td>180875862</td>\n",
              "      <td>183223149.0</td>\n",
              "      <td>...</td>\n",
              "      <td>Theft, From Locked Vehicle, &gt;$950</td>\n",
              "      <td>Open or Active</td>\n",
              "      <td>GEARY BLVD \\ PRESIDIO AVE</td>\n",
              "      <td>26834000.0</td>\n",
              "      <td>Richmond</td>\n",
              "      <td>Lone Mountain/USF</td>\n",
              "      <td>2.0</td>\n",
              "      <td>37.782488</td>\n",
              "      <td>-122.445821</td>\n",
              "      <td>POINT (-122.4458205129012 37.782488031626265)</td>\n",
              "    </tr>\n",
              "    <tr>\n",
              "      <th>4</th>\n",
              "      <td>2019/04/10 09:00:00 PM</td>\n",
              "      <td>2019/04/10</td>\n",
              "      <td>21:00</td>\n",
              "      <td>2019</td>\n",
              "      <td>Wednesday</td>\n",
              "      <td>2019/04/11 12:36:00 AM</td>\n",
              "      <td>78958506244</td>\n",
              "      <td>789585</td>\n",
              "      <td>196072179</td>\n",
              "      <td>NaN</td>\n",
              "      <td>...</td>\n",
              "      <td>Theft, From Locked Vehicle, &gt;$950</td>\n",
              "      <td>Open or Active</td>\n",
              "      <td>VAN NESS AVE \\ HEMLOCK ST</td>\n",
              "      <td>30080000.0</td>\n",
              "      <td>Northern</td>\n",
              "      <td>Nob Hill</td>\n",
              "      <td>3.0</td>\n",
              "      <td>37.787087</td>\n",
              "      <td>-122.421560</td>\n",
              "      <td>POINT (-122.42155971686209 37.7870872505264)</td>\n",
              "    </tr>\n",
              "  </tbody>\n",
              "</table>\n",
              "<p>5 rows × 26 columns</p>\n",
              "</div>\n",
              "      <button class=\"colab-df-convert\" onclick=\"convertToInteractive('df-65a50fdd-b340-45cf-b21a-6a61991a4d04')\"\n",
              "              title=\"Convert this dataframe to an interactive table.\"\n",
              "              style=\"display:none;\">\n",
              "        \n",
              "  <svg xmlns=\"http://www.w3.org/2000/svg\" height=\"24px\"viewBox=\"0 0 24 24\"\n",
              "       width=\"24px\">\n",
              "    <path d=\"M0 0h24v24H0V0z\" fill=\"none\"/>\n",
              "    <path d=\"M18.56 5.44l.94 2.06.94-2.06 2.06-.94-2.06-.94-.94-2.06-.94 2.06-2.06.94zm-11 1L8.5 8.5l.94-2.06 2.06-.94-2.06-.94L8.5 2.5l-.94 2.06-2.06.94zm10 10l.94 2.06.94-2.06 2.06-.94-2.06-.94-.94-2.06-.94 2.06-2.06.94z\"/><path d=\"M17.41 7.96l-1.37-1.37c-.4-.4-.92-.59-1.43-.59-.52 0-1.04.2-1.43.59L10.3 9.45l-7.72 7.72c-.78.78-.78 2.05 0 2.83L4 21.41c.39.39.9.59 1.41.59.51 0 1.02-.2 1.41-.59l7.78-7.78 2.81-2.81c.8-.78.8-2.07 0-2.86zM5.41 20L4 18.59l7.72-7.72 1.47 1.35L5.41 20z\"/>\n",
              "  </svg>\n",
              "      </button>\n",
              "      \n",
              "  <style>\n",
              "    .colab-df-container {\n",
              "      display:flex;\n",
              "      flex-wrap:wrap;\n",
              "      gap: 12px;\n",
              "    }\n",
              "\n",
              "    .colab-df-convert {\n",
              "      background-color: #E8F0FE;\n",
              "      border: none;\n",
              "      border-radius: 50%;\n",
              "      cursor: pointer;\n",
              "      display: none;\n",
              "      fill: #1967D2;\n",
              "      height: 32px;\n",
              "      padding: 0 0 0 0;\n",
              "      width: 32px;\n",
              "    }\n",
              "\n",
              "    .colab-df-convert:hover {\n",
              "      background-color: #E2EBFA;\n",
              "      box-shadow: 0px 1px 2px rgba(60, 64, 67, 0.3), 0px 1px 3px 1px rgba(60, 64, 67, 0.15);\n",
              "      fill: #174EA6;\n",
              "    }\n",
              "\n",
              "    [theme=dark] .colab-df-convert {\n",
              "      background-color: #3B4455;\n",
              "      fill: #D2E3FC;\n",
              "    }\n",
              "\n",
              "    [theme=dark] .colab-df-convert:hover {\n",
              "      background-color: #434B5C;\n",
              "      box-shadow: 0px 1px 3px 1px rgba(0, 0, 0, 0.15);\n",
              "      filter: drop-shadow(0px 1px 2px rgba(0, 0, 0, 0.3));\n",
              "      fill: #FFFFFF;\n",
              "    }\n",
              "  </style>\n",
              "\n",
              "      <script>\n",
              "        const buttonEl =\n",
              "          document.querySelector('#df-65a50fdd-b340-45cf-b21a-6a61991a4d04 button.colab-df-convert');\n",
              "        buttonEl.style.display =\n",
              "          google.colab.kernel.accessAllowed ? 'block' : 'none';\n",
              "\n",
              "        async function convertToInteractive(key) {\n",
              "          const element = document.querySelector('#df-65a50fdd-b340-45cf-b21a-6a61991a4d04');\n",
              "          const dataTable =\n",
              "            await google.colab.kernel.invokeFunction('convertToInteractive',\n",
              "                                                     [key], {});\n",
              "          if (!dataTable) return;\n",
              "\n",
              "          const docLinkHtml = 'Like what you see? Visit the ' +\n",
              "            '<a target=\"_blank\" href=https://colab.research.google.com/notebooks/data_table.ipynb>data table notebook</a>'\n",
              "            + ' to learn more about interactive tables.';\n",
              "          element.innerHTML = '';\n",
              "          dataTable['output_type'] = 'display_data';\n",
              "          await google.colab.output.renderOutput(dataTable, element);\n",
              "          const docLink = document.createElement('div');\n",
              "          docLink.innerHTML = docLinkHtml;\n",
              "          element.appendChild(docLink);\n",
              "        }\n",
              "      </script>\n",
              "    </div>\n",
              "  </div>\n",
              "  "
            ]
          },
          "metadata": {},
          "execution_count": 6
        }
      ]
    },
    {
      "cell_type": "code",
      "source": [
        "# Group Day and Time into key Categories \n",
        "# def which_day(day):\n",
        "#     if day == 'Monday':\n",
        "#         return 'Weekday'\n",
        "#     elif day == \"Tuesday\":\n",
        "#         return 'Weekday'\n",
        "#     elif day == 'Wednesday':\n",
        "#         return 'Weekday'\n",
        "#     elif day == 'Thursday':\n",
        "#         return 'Weekday'\n",
        "#     elif day == 'Friday':\n",
        "#         return 'Weekday'\n",
        "#     else:\n",
        "#         return 'Weekend'\n",
        "\n",
        "def convert_dt(str):\n",
        "  date_time_obj = datetime.datetime.strptime(str, '%Y/%m/%d %I:%M:%S %p')\n",
        "  time = date_time_obj.time()\n",
        "  return(time)\n",
        "\n",
        "def which_time(time):\n",
        "    if datetime.time(11,59,59) >= time >= datetime.time(6,0,0):\n",
        "        return 'Morning'\n",
        "    elif datetime.time(17,59,59) >= time >= datetime.time(12,0,0):\n",
        "        return 'Afternoon'\n",
        "    elif datetime.time(23,59,59) >= time >= datetime.time(18,0,0):\n",
        "        return 'Evening'\n",
        "    else:\n",
        "        return 'MidNight'\n",
        "# create a new column based on condition\n",
        "# rawData['which_day'] = rawData['Incident Day of Week'].apply(which_day)\n",
        "rawData['Time'] = rawData['Incident Datetime'].apply(convert_dt)\n",
        "rawData['which_time'] = rawData['Time'].apply(which_time)"
      ],
      "metadata": {
        "id": "PmUsi3B3l-BH"
      },
      "execution_count": null,
      "outputs": []
    },
    {
      "cell_type": "code",
      "source": [
        "rawData.columns = rawData.columns.str.replace(' ', '_')"
      ],
      "metadata": {
        "id": "anXMKcKOE7ll"
      },
      "execution_count": null,
      "outputs": []
    },
    {
      "cell_type": "code",
      "source": [
        "## download csv with new columns\n",
        "from google.colab import drive\n",
        "\n",
        "drive.mount('/content/drive')\n",
        "path = '/content/drive/My Drive/clean_data.csv'\n",
        "\n",
        "with open(path, 'w', encoding = 'utf-8-sig') as f:\n",
        "  rawData.to_csv(f)"
      ],
      "metadata": {
        "colab": {
          "base_uri": "https://localhost:8080/"
        },
        "id": "XVMbXMs6-X25",
        "outputId": "95b35696-d08b-4ade-a2f6-cf7049f69f09"
      },
      "execution_count": null,
      "outputs": [
        {
          "output_type": "stream",
          "name": "stdout",
          "text": [
            "Mounted at /content/drive\n"
          ]
        }
      ]
    },
    {
      "cell_type": "code",
      "source": [
        "# Exploration - Break-ins seemed to happen the most during evenings (6-12pm) and afternoons (12-6pm)\n",
        "\n",
        "print(rawData['which_time'].value_counts(normalize=True))\n",
        "plt.hist(rawData['which_time'])\n",
        "plt.show()"
      ],
      "metadata": {
        "colab": {
          "base_uri": "https://localhost:8080/",
          "height": 352
        },
        "id": "MuoooyBb-X5p",
        "outputId": "48071da7-00c7-4f23-9111-b362b43d1314"
      },
      "execution_count": null,
      "outputs": [
        {
          "output_type": "stream",
          "name": "stdout",
          "text": [
            "Evening      0.385109\n",
            "Afternoon    0.324471\n",
            "Morning      0.176259\n",
            "MidNight     0.114160\n",
            "Name: which_time, dtype: float64\n"
          ]
        },
        {
          "output_type": "display_data",
          "data": {
            "text/plain": [
              "<Figure size 432x288 with 1 Axes>"
            ],
            "image/png": "[encoded data removed]"
          },
          "metadata": {
            "needs_background": "light"
          }
        }
      ]
    },
    {
      "cell_type": "code",
      "source": [
        "# Exploration - Break-ins seemed to happen evenly thoughout the week\n",
        "\n",
        "\n",
        "print(rawData['Incident Day of Week'].value_counts(normalize=True))\n",
        "print()\n",
        "print(rawData['which_day'].value_counts(normalize=True))\n",
        "\n",
        "# plt.figure(figsize=(10, 6), dpi=80)\n",
        "# plt.hist(rawData['Incident Day of Week'])\n",
        "# plt.show()"
      ],
      "metadata": {
        "colab": {
          "base_uri": "https://localhost:8080/"
        },
        "id": "-UGf0oizBFrB",
        "outputId": "f4b6fcb1-52b8-4a77-eda2-e1f7148cfe5c"
      },
      "execution_count": null,
      "outputs": [
        {
          "output_type": "stream",
          "name": "stdout",
          "text": [
            "Friday       0.157009\n",
            "Saturday     0.148270\n",
            "Monday       0.141285\n",
            "Sunday       0.140950\n",
            "Wednesday    0.140624\n",
            "Thursday     0.138894\n",
            "Tuesday      0.132969\n",
            "Name: Incident Day of Week, dtype: float64\n",
            "\n",
            "Weekday    0.71078\n",
            "Weekend    0.28922\n",
            "Name: which_day, dtype: float64\n"
          ]
        }
      ]
    },
    {
      "cell_type": "code",
      "source": [
        "pd.crosstab(index=rawData['Incident Day of Week'], columns=rawData['which_time'], normalize='index')"
      ],
      "metadata": {
        "colab": {
          "base_uri": "https://localhost:8080/",
          "height": 300
        },
        "id": "yGcQopTcBRHv",
        "outputId": "d5bc3cd0-9083-4420-c171-a23ad2506ca5"
      },
      "execution_count": null,
      "outputs": [
        {
          "output_type": "execute_result",
          "data": {
            "text/plain": [
              "which_time            Afternoon   Evening  MidNight   Morning\n",
              "Incident Day of Week                                         \n",
              "Friday                 0.329869  0.395821  0.103165  0.171145\n",
              "Monday                 0.333141  0.368603  0.111990  0.186265\n",
              "Saturday               0.325592  0.380737  0.128398  0.165272\n",
              "Sunday                 0.341863  0.343716  0.138829  0.175592\n",
              "Thursday               0.302450  0.413548  0.107632  0.176370\n",
              "Tuesday                0.315680  0.403559  0.104388  0.176373\n",
              "Wednesday              0.321186  0.390298  0.104567  0.183949"
            ],
            "text/html": [
              "\n",
              "  <div id=\"df-a7f4f58e-e650-4017-8c8d-b890dd6be7b8\">\n",
              "    <div class=\"colab-df-container\">\n",
              "      <div>\n",
              "<style scoped>\n",
              "    .dataframe tbody tr th:only-of-type {\n",
              "        vertical-align: middle;\n",
              "    }\n",
              "\n",
              "    .dataframe tbody tr th {\n",
              "        vertical-align: top;\n",
              "    }\n",
              "\n",
              "    .dataframe thead th {\n",
              "        text-align: right;\n",
              "    }\n",
              "</style>\n",
              "<table border=\"1\" class=\"dataframe\">\n",
              "  <thead>\n",
              "    <tr style=\"text-align: right;\">\n",
              "      <th>which_time</th>\n",
              "      <th>Afternoon</th>\n",
              "      <th>Evening</th>\n",
              "      <th>MidNight</th>\n",
              "      <th>Morning</th>\n",
              "    </tr>\n",
              "    <tr>\n",
              "      <th>Incident Day of Week</th>\n",
              "      <th></th>\n",
              "      <th></th>\n",
              "      <th></th>\n",
              "      <th></th>\n",
              "    </tr>\n",
              "  </thead>\n",
              "  <tbody>\n",
              "    <tr>\n",
              "      <th>Friday</th>\n",
              "      <td>0.329869</td>\n",
              "      <td>0.395821</td>\n",
              "      <td>0.103165</td>\n",
              "      <td>0.171145</td>\n",
              "    </tr>\n",
              "    <tr>\n",
              "      <th>Monday</th>\n",
              "      <td>0.333141</td>\n",
              "      <td>0.368603</td>\n",
              "      <td>0.111990</td>\n",
              "      <td>0.186265</td>\n",
              "    </tr>\n",
              "    <tr>\n",
              "      <th>Saturday</th>\n",
              "      <td>0.325592</td>\n",
              "      <td>0.380737</td>\n",
              "      <td>0.128398</td>\n",
              "      <td>0.165272</td>\n",
              "    </tr>\n",
              "    <tr>\n",
              "      <th>Sunday</th>\n",
              "      <td>0.341863</td>\n",
              "      <td>0.343716</td>\n",
              "      <td>0.138829</td>\n",
              "      <td>0.175592</td>\n",
              "    </tr>\n",
              "    <tr>\n",
              "      <th>Thursday</th>\n",
              "      <td>0.302450</td>\n",
              "      <td>0.413548</td>\n",
              "      <td>0.107632</td>\n",
              "      <td>0.176370</td>\n",
              "    </tr>\n",
              "    <tr>\n",
              "      <th>Tuesday</th>\n",
              "      <td>0.315680</td>\n",
              "      <td>0.403559</td>\n",
              "      <td>0.104388</td>\n",
              "      <td>0.176373</td>\n",
              "    </tr>\n",
              "    <tr>\n",
              "      <th>Wednesday</th>\n",
              "      <td>0.321186</td>\n",
              "      <td>0.390298</td>\n",
              "      <td>0.104567</td>\n",
              "      <td>0.183949</td>\n",
              "    </tr>\n",
              "  </tbody>\n",
              "</table>\n",
              "</div>\n",
              "      <button class=\"colab-df-convert\" onclick=\"convertToInteractive('df-a7f4f58e-e650-4017-8c8d-b890dd6be7b8')\"\n",
              "              title=\"Convert this dataframe to an interactive table.\"\n",
              "              style=\"display:none;\">\n",
              "        \n",
              "  <svg xmlns=\"http://www.w3.org/2000/svg\" height=\"24px\"viewBox=\"0 0 24 24\"\n",
              "       width=\"24px\">\n",
              "    <path d=\"M0 0h24v24H0V0z\" fill=\"none\"/>\n",
              "    <path d=\"M18.56 5.44l.94 2.06.94-2.06 2.06-.94-2.06-.94-.94-2.06-.94 2.06-2.06.94zm-11 1L8.5 8.5l.94-2.06 2.06-.94-2.06-.94L8.5 2.5l-.94 2.06-2.06.94zm10 10l.94 2.06.94-2.06 2.06-.94-2.06-.94-.94-2.06-.94 2.06-2.06.94z\"/><path d=\"M17.41 7.96l-1.37-1.37c-.4-.4-.92-.59-1.43-.59-.52 0-1.04.2-1.43.59L10.3 9.45l-7.72 7.72c-.78.78-.78 2.05 0 2.83L4 21.41c.39.39.9.59 1.41.59.51 0 1.02-.2 1.41-.59l7.78-7.78 2.81-2.81c.8-.78.8-2.07 0-2.86zM5.41 20L4 18.59l7.72-7.72 1.47 1.35L5.41 20z\"/>\n",
              "  </svg>\n",
              "      </button>\n",
              "      \n",
              "  <style>\n",
              "    .colab-df-container {\n",
              "      display:flex;\n",
              "      flex-wrap:wrap;\n",
              "      gap: 12px;\n",
              "    }\n",
              "\n",
              "    .colab-df-convert {\n",
              "      background-color: #E8F0FE;\n",
              "      border: none;\n",
              "      border-radius: 50%;\n",
              "      cursor: pointer;\n",
              "      display: none;\n",
              "      fill: #1967D2;\n",
              "      height: 32px;\n",
              "      padding: 0 0 0 0;\n",
              "      width: 32px;\n",
              "    }\n",
              "\n",
              "    .colab-df-convert:hover {\n",
              "      background-color: #E2EBFA;\n",
              "      box-shadow: 0px 1px 2px rgba(60, 64, 67, 0.3), 0px 1px 3px 1px rgba(60, 64, 67, 0.15);\n",
              "      fill: #174EA6;\n",
              "    }\n",
              "\n",
              "    [theme=dark] .colab-df-convert {\n",
              "      background-color: #3B4455;\n",
              "      fill: #D2E3FC;\n",
              "    }\n",
              "\n",
              "    [theme=dark] .colab-df-convert:hover {\n",
              "      background-color: #434B5C;\n",
              "      box-shadow: 0px 1px 3px 1px rgba(0, 0, 0, 0.15);\n",
              "      filter: drop-shadow(0px 1px 2px rgba(0, 0, 0, 0.3));\n",
              "      fill: #FFFFFF;\n",
              "    }\n",
              "  </style>\n",
              "\n",
              "      <script>\n",
              "        const buttonEl =\n",
              "          document.querySelector('#df-a7f4f58e-e650-4017-8c8d-b890dd6be7b8 button.colab-df-convert');\n",
              "        buttonEl.style.display =\n",
              "          google.colab.kernel.accessAllowed ? 'block' : 'none';\n",
              "\n",
              "        async function convertToInteractive(key) {\n",
              "          const element = document.querySelector('#df-a7f4f58e-e650-4017-8c8d-b890dd6be7b8');\n",
              "          const dataTable =\n",
              "            await google.colab.kernel.invokeFunction('convertToInteractive',\n",
              "                                                     [key], {});\n",
              "          if (!dataTable) return;\n",
              "\n",
              "          const docLinkHtml = 'Like what you see? Visit the ' +\n",
              "            '<a target=\"_blank\" href=https://colab.research.google.com/notebooks/data_table.ipynb>data table notebook</a>'\n",
              "            + ' to learn more about interactive tables.';\n",
              "          element.innerHTML = '';\n",
              "          dataTable['output_type'] = 'display_data';\n",
              "          await google.colab.output.renderOutput(dataTable, element);\n",
              "          const docLink = document.createElement('div');\n",
              "          docLink.innerHTML = docLinkHtml;\n",
              "          element.appendChild(docLink);\n",
              "        }\n",
              "      </script>\n",
              "    </div>\n",
              "  </div>\n",
              "  "
            ]
          },
          "metadata": {},
          "execution_count": 134
        }
      ]
    },
    {
      "cell_type": "markdown",
      "source": [
        "#**Analysis Through Spark**#\n",
        "\n",
        "\n"
      ],
      "metadata": {
        "id": "Q2nJ4ucgAhrp"
      }
    },
    {
      "cell_type": "code",
      "source": [
        "!apt-get install openjdk-8-jdk-headless -qq > /dev/null\n",
        "!wget -q https://archive.apache.org/dist/spark/spark-3.1.2/spark-3.1.2-bin-hadoop3.2.tgz\n",
        "!tar xf spark-3.1.2-bin-hadoop3.2.tgz\n",
        "!pip install -q findspark\n",
        "import os\n",
        "os.environ[\"JAVA_HOME\"] = \"/usr/lib/jvm/java-8-openjdk-amd64\"\n",
        "os.environ[\"SPARK_HOME\"] = \"/content/spark-3.1.2-bin-hadoop3.2\"\n",
        "import findspark\n",
        "findspark.init()\n",
        "from pyspark.sql import SparkSession\n",
        "from pyspark import SparkConf, SparkContext\n",
        "from datetime import datetime, date, timedelta\n",
        "from dateutil import relativedelta\n",
        "from pyspark.sql import SQLContext, Row\n",
        "from pyspark.sql.types import *\n",
        "from pyspark.sql.functions import *\n",
        "from pyspark.sql import DataFrame\n",
        "from pyspark.sql.functions import *\n",
        "from pyspark.sql.functions import to_timestamp, to_date\n",
        "from pyspark.sql import functions as F  \n",
        "from pyspark.sql.functions import collect_list, collect_set, concat, first, array_distinct, col, size, expr\n",
        "from pyspark.sql import DataFrame"
      ],
      "metadata": {
        "id": "2VntKDqo-X7z"
      },
      "execution_count": null,
      "outputs": []
    },
    {
      "cell_type": "code",
      "source": [
        "spark = SparkSession\\\n",
        "        .builder\\\n",
        "        .getOrCreate()"
      ],
      "metadata": {
        "id": "sIipgDv6-X-c"
      },
      "execution_count": null,
      "outputs": []
    },
    {
      "cell_type": "code",
      "source": [
        "DataUnlabeled = spark\\\n",
        ".read\\\n",
        ".option(\"inferSchema\", \"true\")\\\n",
        ".option(\"header\", \"true\")\\\n",
        ".csv(\"/content/drive/My Drive/clean_data.csv\")"
      ],
      "metadata": {
        "id": "4QGPtoEXBnn3"
      },
      "execution_count": null,
      "outputs": []
    },
    {
      "cell_type": "code",
      "source": [
        "DataUnlabeled.cache()\n",
        "DataUnlabeled.show()"
      ],
      "metadata": {
        "colab": {
          "base_uri": "https://localhost:8080/"
        },
        "id": "sp0s2rsEBnq4",
        "outputId": "9bd0bd3a-0f33-41e0-d529-f06d4721f423"
      },
      "execution_count": null,
      "outputs": [
        {
          "output_type": "stream",
          "name": "stdout",
          "text": [
            "+---+--------------------+-------------+-------------+-------------+--------------------+--------------------+-----------+-----------+---------------+------------+----------------+-----------------------+------------+-------------+-------------------+--------------------+--------------------+--------------------+--------------------+--------+---------------+---------------------+-------------------+------------------+-------------------+--------------------+---------+--------+----------+\n",
            "|_c0|   Incident_Datetime|Incident_Date|Incident_Time|Incident_Year|Incident_Day_of_Week|     Report_Datetime|     Row_ID|Incident_ID|Incident_Number|  CAD_Number|Report_Type_Code|Report_Type_Description|Filed_Online|Incident_Code|  Incident_Category|Incident_Subcategory|Incident_Description|          Resolution|        Intersection|     CNN|Police_District|Analysis_Neighborhood|Supervisor_District|          Latitude|          Longitude|               Point|which_day|    Time|which_time|\n",
            "+---+--------------------+-------------+-------------+-------------+--------------------+--------------------+-----------+-----------+---------------+------------+----------------+-----------------------+------------+-------------+-------------------+--------------------+--------------------+--------------------+--------------------+--------+---------------+---------------------+-------------------+------------------+-------------------+--------------------+---------+--------+----------+\n",
            "|  0|2018/12/22 12:00:...|   2018/12/22|        12:00|         2018|            Saturday|2018/12/26 02:29:...|75246907023|     752469|      180971777|1.83601903E8|              VI|        Vehicle Initial|        null|         7023|Motor Vehicle Theft| Motor Vehicle Theft|Vehicle, Stolen, ...|      Open or Active|LINDEN ST \\ BUCHA...|2.5931E7|       Northern|         Hayes Valley|                5.0| 37.77578657487239|-122.42781910073226|POINT (-122.42781...|  Weekend|12:00:00| Afternoon|\n",
            "|  1|2018/08/24 05:30:...|   2018/08/24|        17:30|         2018|              Friday|2018/08/24 07:35:...|70675306243|     706753|      180639339|1.82363732E8|              II|                Initial|        null|         6243|      Larceny Theft|Larceny - From Ve...|Theft, From Locke...|      Open or Active|PERU AVE \\ BURROW...| 2.161E7|      Ingleside|            Excelsior|                9.0| 37.72394419349765| -122.4228300683772|POINT (-122.42283...|  Weekday|17:30:00| Afternoon|\n",
            "|  2|2019/01/25 11:00:...|   2019/01/25|        11:00|         2019|              Friday|2019/01/25 11:00:...|76297507055|     762975|      190061487|1.90251162E8|              VI|        Vehicle Initial|        null|         7055|Motor Vehicle Theft| Motor Vehicle Theft|Vehicle, Recovere...|      Open or Active|BRYANT ST \\ LANGT...|2.3876E7|      Ingleside|      South of Market|                6.0| 37.77385630397913|-122.40528580238283|POINT (-122.40528...|  Weekday|11:00:00|   Morning|\n",
            "|  3|2018/11/18 08:20:...|   2018/11/18|        20:20|         2018|              Sunday|2018/11/18 09:10:...|73895706244|     738957|      180875862|1.83223149E8|              II|                Initial|        null|         6244|      Larceny Theft|Larceny - From Ve...|Theft, From Locke...|      Open or Active|GEARY BLVD \\ PRES...|2.6834E7|       Richmond|    Lone Mountain/USF|                2.0|37.782488031626265| -122.4458205129012|POINT (-122.44582...|  Weekend|20:20:00|   Evening|\n",
            "|  4|2019/04/10 09:00:...|   2019/04/10|        21:00|         2019|           Wednesday|2019/04/11 12:36:...|78958506244|     789585|      196072179|        null|              II|       Coplogic Initial|        true|         6244|      Larceny Theft|Larceny - From Ve...|Theft, From Locke...|      Open or Active|VAN NESS AVE \\ HE...| 3.008E7|       Northern|             Nob Hill|                3.0|  37.7870872505264|-122.42155971686208|POINT (-122.42155...|  Weekday|21:00:00|   Evening|\n",
            "|  5|2018/12/23 09:15:...|   2018/12/23|        21:15|         2018|              Sunday|2018/12/24 01:57:...|75343306224|     753433|      186297898|        null|              II|       Coplogic Initial|        true|         6224|      Larceny Theft|Larceny - From Ve...|Theft, From Unloc...|      Open or Active|MCALLISTER ST \\ B...|3.0055E7|     Tenderloin|           Tenderloin|                6.0|37.780614965813264|-122.41613809985034|POINT (-122.41613...|  Weekend|21:15:00|   Evening|\n",
            "|  6|2019/04/21 12:00:...|   2019/04/21|        12:00|         2019|              Sunday|2019/04/22 12:43:...|79430506244|     794305|      196079971|        null|              IS|    Coplogic Supplement|        true|         6244|      Larceny Theft|Larceny - From Ve...|Theft, From Locke...|      Open or Active|FELTON ST \\ SAN B...|2.8173E7|        Bayview|              Portola|                9.0| 37.73003719466246|-122.40459261785216|POINT (-122.40459...|  Weekend|12:00:00| Afternoon|\n",
            "|  7|2018/11/17 11:00:...|   2018/11/17|        11:00|         2018|            Saturday|2018/11/18 10:30:...|73982806244|     739828|      186266990|        null|              II|       Coplogic Initial|        true|         6244|      Larceny Theft|Larceny - From Ve...|Theft, From Locke...|      Open or Active|BATTERY ST \\ MERC...|2.4699E7|        Central| Financial Distric...|                3.0| 37.79544849687888|-122.40041268582164|POINT (-122.40041...|  Weekend|11:00:00|   Morning|\n",
            "|  8|2019/05/25 06:30:...|   2019/05/25|        18:30|         2019|            Saturday|2019/05/25 08:44:...|80476806244|     804768|      190375498|1.91453227E8|              II|                Initial|        null|         6244|      Larceny Theft|Larceny - From Ve...|Theft, From Locke...|      Open or Active|FRANCISCO ST \\ MA...|2.5471E7|        Central|          North Beach|                3.0| 37.80468416244828|-122.41342855506932|POINT (-122.41342...|  Weekend|18:30:00|   Evening|\n",
            "|  9|2019/01/06 11:00:...|   2019/01/06|        11:00|         2019|              Sunday|2019/01/06 12:00:...|75639606244|     756396|      190013698| 1.9006111E8|              II|                Initial|        null|         6244|      Larceny Theft|Larceny - From Ve...|Theft, From Locke...|      Open or Active|MARINA BLVD \\ LYO...|3.3625E7|       Northern|             Presidio|                2.0| 37.80472422408812|-122.44827914652448|POINT (-122.44827...|  Weekend|11:00:00|   Morning|\n",
            "| 10|2019/04/16 08:00:...|   2019/04/16|        08:00|         2019|             Tuesday|2019/04/17 06:55:...|79147306244|     791473|      190274373|1.91073463E8|              II|                Initial|        null|         6244|      Larceny Theft|Larceny - From Ve...|Theft, From Locke...|      Open or Active|TREAT AVE \\ 16TH ...|2.4055E7|        Mission|              Mission|                9.0|  37.7654476075275|-122.41310524380864|POINT (-122.41310...|  Weekday|08:00:00|   Morning|\n",
            "| 11|2018/08/24 05:30:...|   2018/08/24|        17:30|         2018|              Friday|2018/08/24 07:00:...|70876706244|     708767|      186197709|        null|              II|       Coplogic Initial|        true|         6244|      Larceny Theft|Larceny - From Ve...|Theft, From Locke...|      Open or Active|EL CAMINO DEL MAR...|2.8036E7|       Richmond|             Seacliff|                2.0| 37.78657965398438|-122.49311487043036|POINT (-122.49311...|  Weekday|17:30:00| Afternoon|\n",
            "| 12|2019/05/02 07:00:...|   2019/05/02|        19:00|         2019|            Thursday|2019/05/03 12:35:...|79730806244|     797308|      196086932|        null|              II|       Coplogic Initial|        true|         6244|      Larceny Theft|Larceny - From Ve...|Theft, From Locke...|      Open or Active|ILLINOIS ST \\ HUM...|3.3627E7|        Bayview|         Potrero Hill|               10.0| 37.75677768735601|  -122.387194549149|POINT (-122.38719...|  Weekday|19:00:00|   Evening|\n",
            "| 13|2019/04/22 11:35:...|   2019/04/22|        11:35|         2019|              Monday|2019/04/22 12:30:...|79317706244|     793177|      190285790|1.91121839E8|              II|                Initial|        null|         6244|      Larceny Theft|Larceny - From Ve...|Theft, From Locke...|      Open or Active| 19TH ST \\ CHURCH ST| 2.571E7|        Mission|  Castro/Upper Market|                8.0| 37.75969162177683|-122.42820232430206|POINT (-122.42820...|  Weekday|11:35:00|   Morning|\n",
            "| 14|2018/12/07 05:12:...|   2018/12/07|        17:12|         2018|              Friday|2018/12/07 05:12:...|74577707055|     745777|      180923916|1.83412996E8|              VI|        Vehicle Initial|        null|         7055|Motor Vehicle Theft| Motor Vehicle Theft|Vehicle, Recovere...|Cite or Arrest Adult|JESSIE EAST ST \\ ...|3.5047E7|       Southern|      South of Market|                6.0| 37.78400661242004|-122.40486479517745|POINT (-122.40486...|  Weekday|17:12:00| Afternoon|\n",
            "| 17|2018/11/06 06:00:...|   2018/11/06|        18:00|         2018|             Tuesday|2018/11/06 08:47:...|73478406244|     734784|      186256913|        null|              II|       Coplogic Initial|        true|         6244|      Larceny Theft|Larceny - From Ve...|Theft, From Locke...|      Open or Active|FRANKLIN ST \\ HAY...|2.4451E7|       Northern|         Hayes Valley|                5.0| 37.77709097125577|-122.42133043276549|POINT (-122.42133...|  Weekday|18:00:00|   Evening|\n",
            "| 18|2019/03/24 08:50:...|   2019/03/24|        20:50|         2019|              Sunday|2019/03/25 03:24:...|78348006244|     783480|      190210844| 1.9084029E8|              II|                Initial|        null|         6244|      Larceny Theft|Larceny - From Ve...|Theft, From Locke...|      Open or Active|GEARY ST \\ POWELL ST|2.4903E7|        Central| Financial Distric...|                3.0| 37.78735926098589|-122.40822672700406|POINT (-122.40822...|  Weekend|20:50:00|   Evening|\n",
            "| 19|2018/09/15 03:00:...|   2018/09/15|        03:00|         2018|            Saturday|2018/09/15 03:17:...|71478907021|     714789|      180698802|1.82580376E8|              VI|        Vehicle Initial|        null|         7021|Motor Vehicle Theft| Motor Vehicle Theft|Vehicle, Stolen, ...|      Open or Active|ARLETA AVE \\ BAY ...|2.0298E7|      Ingleside|    Visitacion Valley|               10.0| 37.71217948507751|-122.40245948022154|POINT (-122.40245...|  Weekend|03:00:00|  MidNight|\n",
            "| 20|2019/02/18 12:01:...|   2019/02/18|        00:01|         2019|              Monday|2019/02/18 11:29:...|77186406244|     771864|      196035387|        null|              II|       Coplogic Initial|        true|         6244|      Larceny Theft|Larceny - From Ve...|Theft, From Locke...|      Open or Active| GEARY ST \\ JONES ST| 2.496E7|        Central|           Tenderloin|                6.0| 37.78672974391054|-122.41316144562204|POINT (-122.41316...|  Weekday|00:01:00|  MidNight|\n",
            "| 21|2019/04/19 07:00:...|   2019/04/19|        19:00|         2019|              Friday|2019/04/25 08:42:...|79461306244|     794613|      196082037|        null|              II|       Coplogic Initial|        true|         6244|      Larceny Theft|Larceny - From Ve...|Theft, From Locke...|      Open or Active|BRANNAN ST \\ 08TH ST|2.3872E7|       Southern|      South of Market|                6.0| 37.77129635185078|-122.40542473566995|POINT (-122.40542...|  Weekday|19:00:00|   Evening|\n",
            "+---+--------------------+-------------+-------------+-------------+--------------------+--------------------+-----------+-----------+---------------+------------+----------------+-----------------------+------------+-------------+-------------------+--------------------+--------------------+--------------------+--------------------+--------+---------------+---------------------+-------------------+------------------+-------------------+--------------------+---------+--------+----------+\n",
            "only showing top 20 rows\n",
            "\n"
          ]
        }
      ]
    },
    {
      "cell_type": "code",
      "source": [
        "DataUnlabeled.createOrReplaceTempView(\"df1\")"
      ],
      "metadata": {
        "id": "LKiqh_U2Bntf"
      },
      "execution_count": null,
      "outputs": []
    },
    {
      "cell_type": "code",
      "source": [
        "# Labeling Data \n",
        "# We start by exploring break-in occasions - in which area and during what time break-ins happen most often  \n",
        "\n",
        "percSql = spark.sql(\"\"\"\n",
        "Select *, PERCENT_RANK()OVER(Order by count) as percentile\n",
        "From \n",
        "(SELECT Analysis_Neighborhood, which_day, which_time, count(*) as count\n",
        "FROM df1\n",
        "GROUP BY 1,2,3\n",
        ") t\n",
        "ORDER BY percentile DESC\n",
        "\"\"\")\n",
        "percSql.show(5)\n",
        "percSql.createOrReplaceTempView(\"pct\")"
      ],
      "metadata": {
        "colab": {
          "base_uri": "https://localhost:8080/"
        },
        "id": "BJkUuI5Y-YAx",
        "outputId": "ae6300b6-469c-492b-930a-59b040aff199"
      },
      "execution_count": null,
      "outputs": [
        {
          "output_type": "stream",
          "name": "stdout",
          "text": [
            "+---------------------+---------+----------+-----+------------------+\n",
            "|Analysis_Neighborhood|which_day|which_time|count|        percentile|\n",
            "+---------------------+---------+----------+-----+------------------+\n",
            "|              Mission|  Weekday|   Evening| 3134|               1.0|\n",
            "| Financial Distric...|  Weekday|   Evening| 2766|0.9969418960244648|\n",
            "|          North Beach|  Weekday| Afternoon| 2521|0.9938837920489296|\n",
            "|      South of Market|  Weekday|   Evening| 2083|0.9908256880733946|\n",
            "|          North Beach|  Weekday|   Evening| 2045|0.9877675840978594|\n",
            "+---------------------+---------+----------+-----+------------------+\n",
            "only showing top 5 rows\n",
            "\n"
          ]
        }
      ]
    },
    {
      "cell_type": "code",
      "source": [
        "# Labeled the occasions into 3 groups according to their percentile    \n",
        "\n",
        "rule = spark.sql(\"\"\"\n",
        "SELECT *, \n",
        "CASE WHEN percentile BETWEEN 0 AND 0.33 THEN 'Low'\n",
        "WHEN percentile BETWEEN 0.34 AND 0.66 THEN 'Medium'\n",
        "ELSE 'High' END as Risk_Level\n",
        "FROM pct\n",
        "\"\"\")\n",
        "rule.show()\n",
        "rule.createOrReplaceTempView(\"rule\")"
      ],
      "metadata": {
        "colab": {
          "base_uri": "https://localhost:8080/"
        },
        "id": "H2f1PVIkHZeb",
        "outputId": "a86ee074-34ed-4ff7-89bf-df9d26117ea2"
      },
      "execution_count": null,
      "outputs": [
        {
          "output_type": "stream",
          "name": "stdout",
          "text": [
            "+---------------------+---------+----------+-----+------------------+----------+\n",
            "|Analysis_Neighborhood|which_day|which_time|count|        percentile|Risk_Level|\n",
            "+---------------------+---------+----------+-----+------------------+----------+\n",
            "|              Mission|  Weekday|   Evening| 3134|               1.0|      High|\n",
            "| Financial Distric...|  Weekday|   Evening| 2766|0.9969418960244648|      High|\n",
            "|          North Beach|  Weekday| Afternoon| 2521|0.9938837920489296|      High|\n",
            "|      South of Market|  Weekday|   Evening| 2083|0.9908256880733946|      High|\n",
            "|          North Beach|  Weekday|   Evening| 2045|0.9877675840978594|      High|\n",
            "|              Mission|  Weekday| Afternoon| 1998|0.9847094801223242|      High|\n",
            "| Financial Distric...|  Weekday| Afternoon| 1747| 0.981651376146789|      High|\n",
            "|         Russian Hill|  Weekday| Afternoon| 1661|0.9785932721712538|      High|\n",
            "| Bayview Hunters P...|  Weekday| Afternoon| 1493|0.9755351681957186|      High|\n",
            "|         Hayes Valley|  Weekday|   Evening| 1480|0.9724770642201835|      High|\n",
            "|     Western Addition|  Weekday|   Evening| 1459|0.9694189602446484|      High|\n",
            "|           Tenderloin|  Weekday|   Evening| 1451|0.9663608562691132|      High|\n",
            "|         Russian Hill|  Weekday|   Evening| 1422| 0.963302752293578|      High|\n",
            "| Bayview Hunters P...|  Weekday|   Evening| 1405|0.9602446483180428|      High|\n",
            "|               Marina|  Weekday|   Evening| 1312|0.9571865443425076|      High|\n",
            "|               Marina|  Weekday| Afternoon| 1283|0.9541284403669725|      High|\n",
            "|         Hayes Valley|  Weekday| Afternoon| 1218|0.9510703363914373|      High|\n",
            "|              Mission|  Weekend|   Evening| 1198|0.9480122324159022|      High|\n",
            "|       Outer Richmond|  Weekday| Afternoon| 1192| 0.944954128440367|      High|\n",
            "|      South of Market|  Weekday| Afternoon| 1188|0.9418960244648318|      High|\n",
            "+---------------------+---------+----------+-----+------------------+----------+\n",
            "only showing top 20 rows\n",
            "\n"
          ]
        }
      ]
    },
    {
      "cell_type": "code",
      "source": [
        "# Apply label to original dataset to label each records  \n",
        "\n",
        "final_table = spark.sql(\"\"\"\n",
        "SELECT d.*, r.Risk_Level\n",
        "FROM df1 d\n",
        "LEFT JOIN rule r ON d.Analysis_Neighborhood = r.Analysis_Neighborhood\n",
        "AND d.which_day = r.which_day\n",
        "AND d.which_time = r.which_time\n",
        "\"\"\")\n",
        "final_table.createOrReplaceTempView(\"df2\")\n",
        "final_table.show()"
      ],
      "metadata": {
        "colab": {
          "base_uri": "https://localhost:8080/"
        },
        "id": "VRD89EPKKUUq",
        "outputId": "c223ad53-a184-48f5-cf1d-8c5d761dc035"
      },
      "execution_count": null,
      "outputs": [
        {
          "output_type": "stream",
          "name": "stdout",
          "text": [
            "+---+--------------------+-------------+-------------+-------------+--------------------+--------------------+-----------+-----------+---------------+------------+----------------+-----------------------+------------+-------------+-------------------+--------------------+--------------------+--------------------+--------------------+--------+---------------+---------------------+-------------------+------------------+-------------------+--------------------+---------+--------+----------+----------+\n",
            "|_c0|   Incident_Datetime|Incident_Date|Incident_Time|Incident_Year|Incident_Day_of_Week|     Report_Datetime|     Row_ID|Incident_ID|Incident_Number|  CAD_Number|Report_Type_Code|Report_Type_Description|Filed_Online|Incident_Code|  Incident_Category|Incident_Subcategory|Incident_Description|          Resolution|        Intersection|     CNN|Police_District|Analysis_Neighborhood|Supervisor_District|          Latitude|          Longitude|               Point|which_day|    Time|which_time|Risk_Level|\n",
            "+---+--------------------+-------------+-------------+-------------+--------------------+--------------------+-----------+-----------+---------------+------------+----------------+-----------------------+------------+-------------+-------------------+--------------------+--------------------+--------------------+--------------------+--------+---------------+---------------------+-------------------+------------------+-------------------+--------------------+---------+--------+----------+----------+\n",
            "|  0|2018/12/22 12:00:...|   2018/12/22|        12:00|         2018|            Saturday|2018/12/26 02:29:...|75246907023|     752469|      180971777|1.83601903E8|              VI|        Vehicle Initial|        null|         7023|Motor Vehicle Theft| Motor Vehicle Theft|Vehicle, Stolen, ...|      Open or Active|LINDEN ST \\ BUCHA...|2.5931E7|       Northern|         Hayes Valley|                5.0| 37.77578657487239|-122.42781910073226|POINT (-122.42781...|  Weekend|12:00:00| Afternoon|      High|\n",
            "|  1|2018/08/24 05:30:...|   2018/08/24|        17:30|         2018|              Friday|2018/08/24 07:35:...|70675306243|     706753|      180639339|1.82363732E8|              II|                Initial|        null|         6243|      Larceny Theft|Larceny - From Ve...|Theft, From Locke...|      Open or Active|PERU AVE \\ BURROW...| 2.161E7|      Ingleside|            Excelsior|                9.0| 37.72394419349765| -122.4228300683772|POINT (-122.42283...|  Weekday|17:30:00| Afternoon|      High|\n",
            "|  2|2019/01/25 11:00:...|   2019/01/25|        11:00|         2019|              Friday|2019/01/25 11:00:...|76297507055|     762975|      190061487|1.90251162E8|              VI|        Vehicle Initial|        null|         7055|Motor Vehicle Theft| Motor Vehicle Theft|Vehicle, Recovere...|      Open or Active|BRYANT ST \\ LANGT...|2.3876E7|      Ingleside|      South of Market|                6.0| 37.77385630397913|-122.40528580238283|POINT (-122.40528...|  Weekday|11:00:00|   Morning|      High|\n",
            "|  3|2018/11/18 08:20:...|   2018/11/18|        20:20|         2018|              Sunday|2018/11/18 09:10:...|73895706244|     738957|      180875862|1.83223149E8|              II|                Initial|        null|         6244|      Larceny Theft|Larceny - From Ve...|Theft, From Locke...|      Open or Active|GEARY BLVD \\ PRES...|2.6834E7|       Richmond|    Lone Mountain/USF|                2.0|37.782488031626265| -122.4458205129012|POINT (-122.44582...|  Weekend|20:20:00|   Evening|    Medium|\n",
            "|  4|2019/04/10 09:00:...|   2019/04/10|        21:00|         2019|           Wednesday|2019/04/11 12:36:...|78958506244|     789585|      196072179|        null|              II|       Coplogic Initial|        true|         6244|      Larceny Theft|Larceny - From Ve...|Theft, From Locke...|      Open or Active|VAN NESS AVE \\ HE...| 3.008E7|       Northern|             Nob Hill|                3.0|  37.7870872505264|-122.42155971686208|POINT (-122.42155...|  Weekday|21:00:00|   Evening|      High|\n",
            "|  5|2018/12/23 09:15:...|   2018/12/23|        21:15|         2018|              Sunday|2018/12/24 01:57:...|75343306224|     753433|      186297898|        null|              II|       Coplogic Initial|        true|         6224|      Larceny Theft|Larceny - From Ve...|Theft, From Unloc...|      Open or Active|MCALLISTER ST \\ B...|3.0055E7|     Tenderloin|           Tenderloin|                6.0|37.780614965813264|-122.41613809985034|POINT (-122.41613...|  Weekend|21:15:00|   Evening|      High|\n",
            "|  6|2019/04/21 12:00:...|   2019/04/21|        12:00|         2019|              Sunday|2019/04/22 12:43:...|79430506244|     794305|      196079971|        null|              IS|    Coplogic Supplement|        true|         6244|      Larceny Theft|Larceny - From Ve...|Theft, From Locke...|      Open or Active|FELTON ST \\ SAN B...|2.8173E7|        Bayview|              Portola|                9.0| 37.73003719466246|-122.40459261785216|POINT (-122.40459...|  Weekend|12:00:00| Afternoon|       Low|\n",
            "|  7|2018/11/17 11:00:...|   2018/11/17|        11:00|         2018|            Saturday|2018/11/18 10:30:...|73982806244|     739828|      186266990|        null|              II|       Coplogic Initial|        true|         6244|      Larceny Theft|Larceny - From Ve...|Theft, From Locke...|      Open or Active|BATTERY ST \\ MERC...|2.4699E7|        Central| Financial Distric...|                3.0| 37.79544849687888|-122.40041268582164|POINT (-122.40041...|  Weekend|11:00:00|   Morning|      High|\n",
            "|  8|2019/05/25 06:30:...|   2019/05/25|        18:30|         2019|            Saturday|2019/05/25 08:44:...|80476806244|     804768|      190375498|1.91453227E8|              II|                Initial|        null|         6244|      Larceny Theft|Larceny - From Ve...|Theft, From Locke...|      Open or Active|FRANCISCO ST \\ MA...|2.5471E7|        Central|          North Beach|                3.0| 37.80468416244828|-122.41342855506932|POINT (-122.41342...|  Weekend|18:30:00|   Evening|      High|\n",
            "|  9|2019/01/06 11:00:...|   2019/01/06|        11:00|         2019|              Sunday|2019/01/06 12:00:...|75639606244|     756396|      190013698| 1.9006111E8|              II|                Initial|        null|         6244|      Larceny Theft|Larceny - From Ve...|Theft, From Locke...|      Open or Active|MARINA BLVD \\ LYO...|3.3625E7|       Northern|             Presidio|                2.0| 37.80472422408812|-122.44827914652448|POINT (-122.44827...|  Weekend|11:00:00|   Morning|       Low|\n",
            "| 10|2019/04/16 08:00:...|   2019/04/16|        08:00|         2019|             Tuesday|2019/04/17 06:55:...|79147306244|     791473|      190274373|1.91073463E8|              II|                Initial|        null|         6244|      Larceny Theft|Larceny - From Ve...|Theft, From Locke...|      Open or Active|TREAT AVE \\ 16TH ...|2.4055E7|        Mission|              Mission|                9.0|  37.7654476075275|-122.41310524380864|POINT (-122.41310...|  Weekday|08:00:00|   Morning|      High|\n",
            "| 11|2018/08/24 05:30:...|   2018/08/24|        17:30|         2018|              Friday|2018/08/24 07:00:...|70876706244|     708767|      186197709|        null|              II|       Coplogic Initial|        true|         6244|      Larceny Theft|Larceny - From Ve...|Theft, From Locke...|      Open or Active|EL CAMINO DEL MAR...|2.8036E7|       Richmond|             Seacliff|                2.0| 37.78657965398438|-122.49311487043036|POINT (-122.49311...|  Weekday|17:30:00| Afternoon|       Low|\n",
            "| 12|2019/05/02 07:00:...|   2019/05/02|        19:00|         2019|            Thursday|2019/05/03 12:35:...|79730806244|     797308|      196086932|        null|              II|       Coplogic Initial|        true|         6244|      Larceny Theft|Larceny - From Ve...|Theft, From Locke...|      Open or Active|ILLINOIS ST \\ HUM...|3.3627E7|        Bayview|         Potrero Hill|               10.0| 37.75677768735601|  -122.387194549149|POINT (-122.38719...|  Weekday|19:00:00|   Evening|      High|\n",
            "| 13|2019/04/22 11:35:...|   2019/04/22|        11:35|         2019|              Monday|2019/04/22 12:30:...|79317706244|     793177|      190285790|1.91121839E8|              II|                Initial|        null|         6244|      Larceny Theft|Larceny - From Ve...|Theft, From Locke...|      Open or Active| 19TH ST \\ CHURCH ST| 2.571E7|        Mission|  Castro/Upper Market|                8.0| 37.75969162177683|-122.42820232430206|POINT (-122.42820...|  Weekday|11:35:00|   Morning|    Medium|\n",
            "| 14|2018/12/07 05:12:...|   2018/12/07|        17:12|         2018|              Friday|2018/12/07 05:12:...|74577707055|     745777|      180923916|1.83412996E8|              VI|        Vehicle Initial|        null|         7055|Motor Vehicle Theft| Motor Vehicle Theft|Vehicle, Recovere...|Cite or Arrest Adult|JESSIE EAST ST \\ ...|3.5047E7|       Southern|      South of Market|                6.0| 37.78400661242004|-122.40486479517745|POINT (-122.40486...|  Weekday|17:12:00| Afternoon|      High|\n",
            "| 17|2018/11/06 06:00:...|   2018/11/06|        18:00|         2018|             Tuesday|2018/11/06 08:47:...|73478406244|     734784|      186256913|        null|              II|       Coplogic Initial|        true|         6244|      Larceny Theft|Larceny - From Ve...|Theft, From Locke...|      Open or Active|FRANKLIN ST \\ HAY...|2.4451E7|       Northern|         Hayes Valley|                5.0| 37.77709097125577|-122.42133043276549|POINT (-122.42133...|  Weekday|18:00:00|   Evening|      High|\n",
            "| 18|2019/03/24 08:50:...|   2019/03/24|        20:50|         2019|              Sunday|2019/03/25 03:24:...|78348006244|     783480|      190210844| 1.9084029E8|              II|                Initial|        null|         6244|      Larceny Theft|Larceny - From Ve...|Theft, From Locke...|      Open or Active|GEARY ST \\ POWELL ST|2.4903E7|        Central| Financial Distric...|                3.0| 37.78735926098589|-122.40822672700406|POINT (-122.40822...|  Weekend|20:50:00|   Evening|      High|\n",
            "| 19|2018/09/15 03:00:...|   2018/09/15|        03:00|         2018|            Saturday|2018/09/15 03:17:...|71478907021|     714789|      180698802|1.82580376E8|              VI|        Vehicle Initial|        null|         7021|Motor Vehicle Theft| Motor Vehicle Theft|Vehicle, Stolen, ...|      Open or Active|ARLETA AVE \\ BAY ...|2.0298E7|      Ingleside|    Visitacion Valley|               10.0| 37.71217948507751|-122.40245948022154|POINT (-122.40245...|  Weekend|03:00:00|  MidNight|       Low|\n",
            "| 20|2019/02/18 12:01:...|   2019/02/18|        00:01|         2019|              Monday|2019/02/18 11:29:...|77186406244|     771864|      196035387|        null|              II|       Coplogic Initial|        true|         6244|      Larceny Theft|Larceny - From Ve...|Theft, From Locke...|      Open or Active| GEARY ST \\ JONES ST| 2.496E7|        Central|           Tenderloin|                6.0| 37.78672974391054|-122.41316144562204|POINT (-122.41316...|  Weekday|00:01:00|  MidNight|      High|\n",
            "| 21|2019/04/19 07:00:...|   2019/04/19|        19:00|         2019|              Friday|2019/04/25 08:42:...|79461306244|     794613|      196082037|        null|              II|       Coplogic Initial|        true|         6244|      Larceny Theft|Larceny - From Ve...|Theft, From Locke...|      Open or Active|BRANNAN ST \\ 08TH ST|2.3872E7|       Southern|      South of Market|                6.0| 37.77129635185078|-122.40542473566995|POINT (-122.40542...|  Weekday|19:00:00|   Evening|      High|\n",
            "+---+--------------------+-------------+-------------+-------------+--------------------+--------------------+-----------+-----------+---------------+------------+----------------+-----------------------+------------+-------------+-------------------+--------------------+--------------------+--------------------+--------------------+--------+---------------+---------------------+-------------------+------------------+-------------------+--------------------+---------+--------+----------+----------+\n",
            "only showing top 20 rows\n",
            "\n"
          ]
        }
      ]
    },
    {
      "cell_type": "markdown",
      "source": [
        "#**Preparing Data for Model Fitting**#"
      ],
      "metadata": {
        "id": "eRngW4_Cq0Rg"
      }
    },
    {
      "cell_type": "code",
      "source": [
        "##Selecting variables\n",
        "#model_table = final_table.select('which_day','which_time','Analysis_Neighborhood', 'Risk_Level')\n",
        "model_table = final_table.select('Incident_Day_of_Week','which_time','Analysis_Neighborhood', 'Risk_Level')\n",
        "cols = model_table.columns\n",
        "model_table.printSchema()"
      ],
      "metadata": {
        "colab": {
          "base_uri": "https://localhost:8080/"
        },
        "id": "idSzcKuKaIqD",
        "outputId": "c0a7940e-6a8d-4fe2-8c8f-326c753dfda4"
      },
      "execution_count": null,
      "outputs": [
        {
          "output_type": "stream",
          "name": "stdout",
          "text": [
            "root\n",
            " |-- Incident_Day_of_Week: string (nullable = true)\n",
            " |-- which_time: string (nullable = true)\n",
            " |-- Analysis_Neighborhood: string (nullable = true)\n",
            " |-- Risk_Level: string (nullable = true)\n",
            "\n"
          ]
        }
      ]
    },
    {
      "cell_type": "code",
      "source": [
        "from pyspark.ml.feature import OneHotEncoder, StringIndexer, VectorAssembler"
      ],
      "metadata": {
        "id": "cE_4VGZ9jLhN"
      },
      "execution_count": null,
      "outputs": []
    },
    {
      "cell_type": "code",
      "source": [
        "##Code for StringIndex + One Hot Encoder for the Categorical Variables Selected\n",
        "categoricalColumns = ['Incident_Day_of_Week','which_time','Analysis_Neighborhood']\n",
        "stages = []\n",
        "\n",
        "\n",
        "for c in categoricalColumns:\n",
        "  stringIndexer = StringIndexer(inputCol= c , outputCol = c + 'Index')\n",
        "  encoder = OneHotEncoder(inputCols=[stringIndexer.getOutputCol()], outputCols=[c + \"classVec\"])\n",
        "  stages += [stringIndexer, encoder]\n",
        "\n",
        "label_stringIdx = StringIndexer(inputCol = 'Risk_Level', outputCol = 'label')\n",
        "\n",
        "stages += [label_stringIdx]\n",
        "\n",
        "##Code for Vector Assembler\n",
        "assemblerInputs = [c + \"classVec\" for c in categoricalColumns]\n",
        "assembler = VectorAssembler(inputCols=assemblerInputs, outputCol=\"features\")\n",
        "stages += [assembler]"
      ],
      "metadata": {
        "id": "1ksjDUCFVIOP"
      },
      "execution_count": null,
      "outputs": []
    },
    {
      "cell_type": "code",
      "source": [
        "from pyspark.ml import Pipeline\n",
        "\n",
        "##Pipeline to execute the transformation of features\n",
        "pipeline = Pipeline(stages = stages)\n",
        "pipelineModel = pipeline.fit(model_table)\n",
        "model_tabl_transformed = pipelineModel.transform(model_table)\n",
        "selectedCols = ['label', 'features'] + cols\n",
        "model_tabl_transformed = model_tabl_transformed.select(selectedCols)\n",
        "model_tabl_transformed.printSchema()"
      ],
      "metadata": {
        "colab": {
          "base_uri": "https://localhost:8080/"
        },
        "id": "0gq7_3vIZJlH",
        "outputId": "2209a667-4276-47dd-d924-f15275f5a409"
      },
      "execution_count": null,
      "outputs": [
        {
          "output_type": "stream",
          "name": "stdout",
          "text": [
            "root\n",
            " |-- label: double (nullable = false)\n",
            " |-- features: vector (nullable = true)\n",
            " |-- Incident_Day_of_Week: string (nullable = true)\n",
            " |-- which_time: string (nullable = true)\n",
            " |-- Analysis_Neighborhood: string (nullable = true)\n",
            " |-- Risk_Level: string (nullable = true)\n",
            "\n"
          ]
        }
      ]
    },
    {
      "cell_type": "code",
      "source": [
        "model_tabl_transformed.show()"
      ],
      "metadata": {
        "colab": {
          "base_uri": "https://localhost:8080/"
        },
        "id": "Q0bd2hFobGp1",
        "outputId": "9b378778-1a0c-4636-934b-7932d2908d1f"
      },
      "execution_count": null,
      "outputs": [
        {
          "output_type": "stream",
          "name": "stdout",
          "text": [
            "+-----+--------------------+--------------------+----------+---------------------+----------+\n",
            "|label|            features|Incident_Day_of_Week|which_time|Analysis_Neighborhood|Risk_Level|\n",
            "+-----+--------------------+--------------------+----------+---------------------+----------+\n",
            "|  0.0|(49,[1,7,15],[1.0...|            Saturday| Afternoon|         Hayes Valley|      High|\n",
            "|  0.0|(49,[0,7,33],[1.0...|              Friday| Afternoon|            Excelsior|      High|\n",
            "|  0.0|(49,[0,8,12],[1.0...|              Friday|   Morning|      South of Market|      High|\n",
            "|  1.0|(49,[3,6,37],[1.0...|              Sunday|   Evening|    Lone Mountain/USF|    Medium|\n",
            "|  0.0|(49,[4,6,21],[1.0...|           Wednesday|   Evening|             Nob Hill|      High|\n",
            "|  0.0|(49,[3,6,17],[1.0...|              Sunday|   Evening|           Tenderloin|      High|\n",
            "|  2.0|(49,[3,7,39],[1.0...|              Sunday| Afternoon|              Portola|       Low|\n",
            "|  0.0|(49,[1,8,10],[1.0...|            Saturday|   Morning| Financial Distric...|      High|\n",
            "|  0.0|(49,[1,6,11],[1.0...|            Saturday|   Evening|          North Beach|      High|\n",
            "|  2.0|(49,[3,8,45],[1.0...|              Sunday|   Morning|             Presidio|       Low|\n",
            "|  0.0|(49,[8,9],[1.0,1.0])|             Tuesday|   Morning|              Mission|      High|\n",
            "|  2.0|(49,[0,7,48],[1.0...|              Friday| Afternoon|             Seacliff|       Low|\n",
            "|  0.0|(49,[5,6,24],[1.0...|            Thursday|   Evening|         Potrero Hill|      High|\n",
            "|  1.0|(49,[2,8,22],[1.0...|              Monday|   Morning|  Castro/Upper Market|    Medium|\n",
            "|  0.0|(49,[0,7,12],[1.0...|              Friday| Afternoon|      South of Market|      High|\n",
            "|  0.0|(49,[6,15],[1.0,1...|             Tuesday|   Evening|         Hayes Valley|      High|\n",
            "|  0.0|(49,[3,6,10],[1.0...|              Sunday|   Evening| Financial Distric...|      High|\n",
            "|  2.0|(49,[1,42],[1.0,1...|            Saturday|  MidNight|    Visitacion Valley|       Low|\n",
            "|  0.0|(49,[2,17],[1.0,1...|              Monday|  MidNight|           Tenderloin|      High|\n",
            "|  0.0|(49,[0,6,12],[1.0...|              Friday|   Evening|      South of Market|      High|\n",
            "+-----+--------------------+--------------------+----------+---------------------+----------+\n",
            "only showing top 20 rows\n",
            "\n"
          ]
        }
      ]
    },
    {
      "cell_type": "code",
      "source": [
        "## Train and test split using 70% and 30%\n",
        "train, test = model_tabl_transformed.randomSplit([0.7, 0.3], seed = 42)\n",
        "print(\"Training Dataset Count: \" + str(train.count()))\n",
        "print(\"Test Dataset Count: \" + str(test.count()))"
      ],
      "metadata": {
        "colab": {
          "base_uri": "https://localhost:8080/"
        },
        "id": "m-0INT0hiYEy",
        "outputId": "fd34a331-a6fb-4f94-af42-e64830eb5a59"
      },
      "execution_count": null,
      "outputs": [
        {
          "output_type": "stream",
          "name": "stdout",
          "text": [
            "Training Dataset Count: 85859\n",
            "Test Dataset Count: 36688\n"
          ]
        }
      ]
    },
    {
      "cell_type": "markdown",
      "source": [
        "#**Random Forest Classifier**#"
      ],
      "metadata": {
        "id": "PYYjJsdorwHj"
      }
    },
    {
      "cell_type": "code",
      "source": [
        "from pyspark.ml.classification import RandomForestClassifier\n",
        "rf = RandomForestClassifier(featuresCol = 'features', labelCol = 'label')\n",
        "rfModel = rf.fit(train)\n",
        "predictions = rfModel.transform(test)\n",
        "#predictions.select('which_day','which_time','Analysis_Neighborhood', 'label', 'rawPrediction', 'prediction', 'probability').show(10)"
      ],
      "metadata": {
        "id": "eyQy3SkNiyNt"
      },
      "execution_count": null,
      "outputs": []
    },
    {
      "cell_type": "code",
      "source": [
        "#predictions.show()"
      ],
      "metadata": {
        "id": "F2MZFnwEksBx"
      },
      "execution_count": null,
      "outputs": []
    },
    {
      "cell_type": "code",
      "source": [
        "from pyspark.ml.evaluation import MulticlassClassificationEvaluator\n",
        "# Select (prediction, true label) and compute test error\n",
        "evaluator = MulticlassClassificationEvaluator(\n",
        "    labelCol=\"label\", predictionCol=\"prediction\", metricName=\"accuracy\")\n",
        "accuracy = evaluator.evaluate(predictions)\n",
        "print(\"Accuracy = %g\" %  accuracy)\n",
        "\n"
      ],
      "metadata": {
        "colab": {
          "base_uri": "https://localhost:8080/"
        },
        "id": "52Q5wazvkiBo",
        "outputId": "9372821f-ae1f-42fe-963e-4ae717cd8524"
      },
      "execution_count": null,
      "outputs": [
        {
          "output_type": "stream",
          "name": "stdout",
          "text": [
            "Accuracy = 0.749591\n"
          ]
        }
      ]
    },
    {
      "cell_type": "markdown",
      "source": [
        "#**Multinomial Logistic Regression**#"
      ],
      "metadata": {
        "id": "JSqDRVJfsp-E"
      }
    },
    {
      "cell_type": "code",
      "source": [
        "from pyspark.ml.classification import LogisticRegression\n",
        "\n",
        "lr = LogisticRegression(maxIter=20, regParam=0.3, elasticNetParam=0)\n",
        "lrModel = lr.fit(train)\n",
        "predictions_mlr = lrModel.transform(test)\n",
        "\n",
        "#predictions_mlr.select('which_day','which_time','Analysis_Neighborhood', 'label', 'rawPrediction', 'prediction', 'probability').show(10)"
      ],
      "metadata": {
        "id": "vfH7eG6FspMD"
      },
      "execution_count": null,
      "outputs": []
    },
    {
      "cell_type": "code",
      "source": [
        "# Select (prediction, true label) and compute test error\n",
        "evaluator_mlr = MulticlassClassificationEvaluator(predictionCol=\"prediction\",metricName=\"accuracy\")\n",
        "accuracy_mlr = evaluator_mlr.evaluate(predictions_mlr)\n",
        "\n",
        "print(\"Accuracy = %g\" %  accuracy_mlr)\n"
      ],
      "metadata": {
        "colab": {
          "base_uri": "https://localhost:8080/"
        },
        "id": "M6SB-I6ymaug",
        "outputId": "31da0fc0-e1c2-4245-fb19-d6ade1e5ebb5"
      },
      "execution_count": null,
      "outputs": [
        {
          "output_type": "stream",
          "name": "stdout",
          "text": [
            "Accuracy = 0.774177\n"
          ]
        }
      ]
    },
    {
      "cell_type": "markdown",
      "source": [
        "IDK trying to split data differently to see if MLR consistently perform better?"
      ],
      "metadata": {
        "id": "fSBjPFCtxoSk"
      }
    },
    {
      "cell_type": "code",
      "source": [
        "import random\n",
        "for loops in range(0,10):\n",
        "  \n",
        "  print(\"Loop \", str(loops+1))\n",
        "\n",
        "  ##generating a random number and using that as seed for split\n",
        "  seed_r = random.randrange(0, 10000)\n",
        "  train, test = model_tabl_transformed.randomSplit([0.7, 0.3], seed = seed_r)\n",
        "\n",
        "  rf = RandomForestClassifier(featuresCol = 'features', labelCol = 'label')\n",
        "\n",
        "\n",
        "  rfModel = rf.fit(train)\n",
        "  predictions = rfModel.transform(test)\n",
        "  evaluator = MulticlassClassificationEvaluator(\n",
        "  labelCol=\"label\", predictionCol=\"prediction\", metricName=\"accuracy\")\n",
        "  accuracy = evaluator.evaluate(predictions)\n",
        "  print(\"Accuracy_RF = %g\" %  accuracy)\n",
        "\n",
        "\n",
        "  lr = LogisticRegression(maxIter=20, regParam=0.3, elasticNetParam=0)\n",
        "  lrModel = lr.fit(train)\n",
        "  predictions_mlr = lrModel.transform(test)\n",
        "\n",
        "  evaluator_mlr = MulticlassClassificationEvaluator(predictionCol=\"prediction\",metricName=\"accuracy\")\n",
        "  accuracy_mlr = evaluator_mlr.evaluate(predictions_mlr)\n",
        "\n",
        "\n",
        "  print(\"Accuracy_MLR = %g\" %  accuracy_mlr)\n"
      ],
      "metadata": {
        "colab": {
          "base_uri": "https://localhost:8080/"
        },
        "id": "eSJaYi5_xnjU",
        "outputId": "c71dfc32-5d96-4b44-c794-dd57ee3da5f6"
      },
      "execution_count": null,
      "outputs": [
        {
          "output_type": "stream",
          "name": "stdout",
          "text": [
            "Loop  1\n",
            "Accuracy_RF = 0.756326\n",
            "Accuracy_MLR = 0.776317\n",
            "Loop  2\n",
            "Accuracy_RF = 0.750238\n",
            "Accuracy_MLR = 0.772491\n",
            "Loop  3\n",
            "Accuracy_RF = 0.752216\n",
            "Accuracy_MLR = 0.776736\n",
            "Loop  4\n",
            "Accuracy_RF = 0.753691\n",
            "Accuracy_MLR = 0.775684\n",
            "Loop  5\n",
            "Accuracy_RF = 0.751482\n",
            "Accuracy_MLR = 0.775757\n",
            "Loop  6\n",
            "Accuracy_RF = 0.7486\n",
            "Accuracy_MLR = 0.779186\n",
            "Loop  7\n",
            "Accuracy_RF = 0.75038\n",
            "Accuracy_MLR = 0.776821\n",
            "Loop  8\n",
            "Accuracy_RF = 0.75612\n",
            "Accuracy_MLR = 0.775601\n",
            "Loop  9\n",
            "Accuracy_RF = 0.750667\n",
            "Accuracy_MLR = 0.776158\n",
            "Loop  10\n",
            "Accuracy_RF = 0.761409\n",
            "Accuracy_MLR = 0.777741\n"
          ]
        }
      ]
    },
    {
      "cell_type": "markdown",
      "source": [
        "# **Confusion Matrices**"
      ],
      "metadata": {
        "id": "jD9PcBDcuj7f"
      }
    },
    {
      "cell_type": "code",
      "source": [
        "from sklearn.metrics import confusion_matrix\n",
        "from sklearn.metrics import classification_report\n",
        "import matplotlib.pyplot as plt\n",
        "import seaborn as sns"
      ],
      "metadata": {
        "id": "EquqYhjbuf--"
      },
      "execution_count": null,
      "outputs": []
    },
    {
      "cell_type": "code",
      "source": [
        "## MLR \n",
        "y_true_rf = predictions.select(\"label\")\n",
        "y_true_rf = y_true_rf.toPandas()\n",
        "\n",
        "y_pred_rf = predictions.select(\"prediction\")\n",
        "y_pred_rf = y_pred_rf.toPandas()\n",
        "\n",
        "cnf_matrix_rf = confusion_matrix(y_true_rf, y_pred_rf)\n",
        "cnf_matrix_rf"
      ],
      "metadata": {
        "colab": {
          "base_uri": "https://localhost:8080/"
        },
        "id": "hmB7_KPzxlFF",
        "outputId": "9ba8064c-eac1-406d-9280-9b80673172d3"
      },
      "execution_count": null,
      "outputs": [
        {
          "output_type": "execute_result",
          "data": {
            "text/plain": [
              "array([[27294,     0,     0],\n",
              "       [ 7071,   207,     0],\n",
              "       [ 2040,    76,     0]])"
            ]
          },
          "metadata": {},
          "execution_count": 55
        }
      ]
    },
    {
      "cell_type": "code",
      "source": [
        "cm_plot_rf = sns.heatmap(cnf_matrix_rf, annot = True, cmap = 'Blues_r', fmt='g')\n",
        "cm_plot_rf.set_xlabel('Predicted Value')\n",
        "cm_plot_rf.set_ylabel('Actual Value')\n",
        "cm_plot_rf.xaxis.set_ticklabels(['High Risk', 'Medium Risk', 'Low Risk'])\n",
        "cm_plot_rf.yaxis.set_ticklabels(['High Risk', 'Medium Risk', 'Low Risk'])"
      ],
      "metadata": {
        "colab": {
          "base_uri": "https://localhost:8080/",
          "height": 331
        },
        "id": "NBwk0gPJyAC7",
        "outputId": "67776ea5-91fa-47a0-f877-453e19bf71eb"
      },
      "execution_count": null,
      "outputs": [
        {
          "output_type": "execute_result",
          "data": {
            "text/plain": [
              "[Text(0, 0.5, 'High Risk'),\n",
              " Text(0, 1.5, 'Medium Risk'),\n",
              " Text(0, 2.5, 'Low Risk')]"
            ]
          },
          "metadata": {},
          "execution_count": 56
        },
        {
          "output_type": "display_data",
          "data": {
            "text/plain": [
              "<Figure size 432x288 with 2 Axes>"
            ],
            "image/png": "[encoded data removed]"
          },
          "metadata": {
            "needs_background": "light"
          }
        }
      ]
    },
    {
      "cell_type": "code",
      "source": [
        "rf_sum = classification_report(y_true_rf, y_pred_rf, target_names = ['High Risk', 'Medium Risk', 'Low Risk'])\n",
        "print(rf_sum)"
      ],
      "metadata": {
        "colab": {
          "base_uri": "https://localhost:8080/"
        },
        "id": "W2nFK4Iz5-xb",
        "outputId": "35c00e9c-75fb-4bdc-d468-65dfdd7bb312"
      },
      "execution_count": null,
      "outputs": [
        {
          "output_type": "stream",
          "name": "stdout",
          "text": [
            "              precision    recall  f1-score   support\n",
            "\n",
            "   High Risk       0.75      1.00      0.86     27294\n",
            " Medium Risk       0.73      0.03      0.05      7278\n",
            "    Low Risk       0.00      0.00      0.00      2116\n",
            "\n",
            "    accuracy                           0.75     36688\n",
            "   macro avg       0.49      0.34      0.30     36688\n",
            "weighted avg       0.70      0.75      0.65     36688\n",
            "\n"
          ]
        },
        {
          "output_type": "stream",
          "name": "stderr",
          "text": [
            "/usr/local/lib/python3.7/dist-packages/sklearn/metrics/_classification.py:1318: UndefinedMetricWarning: Precision and F-score are ill-defined and being set to 0.0 in labels with no predicted samples. Use `zero_division` parameter to control this behavior.\n",
            "  _warn_prf(average, modifier, msg_start, len(result))\n",
            "/usr/local/lib/python3.7/dist-packages/sklearn/metrics/_classification.py:1318: UndefinedMetricWarning: Precision and F-score are ill-defined and being set to 0.0 in labels with no predicted samples. Use `zero_division` parameter to control this behavior.\n",
            "  _warn_prf(average, modifier, msg_start, len(result))\n",
            "/usr/local/lib/python3.7/dist-packages/sklearn/metrics/_classification.py:1318: UndefinedMetricWarning: Precision and F-score are ill-defined and being set to 0.0 in labels with no predicted samples. Use `zero_division` parameter to control this behavior.\n",
            "  _warn_prf(average, modifier, msg_start, len(result))\n"
          ]
        }
      ]
    },
    {
      "cell_type": "code",
      "source": [
        "## MLR \n",
        "y_true_mlr = predictions_mlr.select(\"label\")\n",
        "y_true_mlr = y_true_mlr.toPandas()\n",
        "\n",
        "y_pred_mlr = predictions_mlr.select(\"prediction\")\n",
        "y_pred_mlr = y_pred_mlr.toPandas()\n",
        "\n",
        "cnf_matrix_mlr = confusion_matrix(y_true_mlr, y_pred_mlr)\n",
        "cnf_matrix_mlr"
      ],
      "metadata": {
        "colab": {
          "base_uri": "https://localhost:8080/"
        },
        "id": "O5Y5D4lArfA-",
        "outputId": "ff02ffc0-562d-4093-b85d-2b52d2a46caf"
      },
      "execution_count": null,
      "outputs": [
        {
          "output_type": "execute_result",
          "data": {
            "text/plain": [
              "array([[27258,    36,     0],\n",
              "       [ 6328,   950,     0],\n",
              "       [  812,  1109,   195]])"
            ]
          },
          "metadata": {},
          "execution_count": 51
        }
      ]
    },
    {
      "cell_type": "code",
      "source": [
        "cm_plot_mlr = sns.heatmap(cnf_matrix_mlr, annot = True, cmap = 'Blues_r', fmt='g')\n",
        "cm_plot_mlr.set_xlabel('Predicted Value')\n",
        "cm_plot_mlr.set_ylabel('Actual Value')\n",
        "cm_plot_mlr.xaxis.set_ticklabels(['High Risk', 'Medium Risk', 'Low Risk'])\n",
        "cm_plot_mlr.yaxis.set_ticklabels(['High Risk', 'Medium Risk', 'Low Risk'])"
      ],
      "metadata": {
        "colab": {
          "base_uri": "https://localhost:8080/",
          "height": 331
        },
        "id": "9LuTwtN7tJ4i",
        "outputId": "e02cd211-cfc7-4582-97ed-5a80d3159c22"
      },
      "execution_count": null,
      "outputs": [
        {
          "output_type": "execute_result",
          "data": {
            "text/plain": [
              "[Text(0, 0.5, 'High Risk'),\n",
              " Text(0, 1.5, 'Medium Risk'),\n",
              " Text(0, 2.5, 'Low Risk')]"
            ]
          },
          "metadata": {},
          "execution_count": 67
        },
        {
          "output_type": "display_data",
          "data": {
            "text/plain": [
              "<Figure size 432x288 with 2 Axes>"
            ],
            "image/png": "[encoded data removed]"
          },
          "metadata": {
            "needs_background": "light"
          }
        }
      ]
    },
    {
      "cell_type": "code",
      "source": [
        "mlr_sum = classification_report(y_true_mlr, y_pred_mlr, target_names = ['High Risk', 'Medium Risk', 'Low Risk'])\n",
        "print(mlr_sum)"
      ],
      "metadata": {
        "colab": {
          "base_uri": "https://localhost:8080/"
        },
        "id": "LVM2SOie6VCB",
        "outputId": "fca04b97-bd5b-4b65-df05-bcd86c4fd2bb"
      },
      "execution_count": null,
      "outputs": [
        {
          "output_type": "stream",
          "name": "stdout",
          "text": [
            "              precision    recall  f1-score   support\n",
            "\n",
            "   High Risk       0.79      1.00      0.88     27294\n",
            " Medium Risk       0.45      0.13      0.20      7278\n",
            "    Low Risk       1.00      0.09      0.17      2116\n",
            "\n",
            "    accuracy                           0.77     36688\n",
            "   macro avg       0.75      0.41      0.42     36688\n",
            "weighted avg       0.74      0.77      0.71     36688\n",
            "\n"
          ]
        }
      ]
    }
  ]
}